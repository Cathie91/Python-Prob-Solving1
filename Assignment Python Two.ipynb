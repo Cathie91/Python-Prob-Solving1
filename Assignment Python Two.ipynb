{
 "cells": [
  {
   "cell_type": "code",
   "execution_count": 32,
   "metadata": {},
   "outputs": [
    {
     "name": "stdout",
     "output_type": "stream",
     "text": [
      "Vowels:  2\n",
      "Consonants:  5\n",
      "Special Characters:  2\n"
     ]
    }
   ],
   "source": [
    "vcount = 0 \n",
    "ccount = 0\n",
    "spcount = 0\n",
    "digcount = 0\n",
    "str = \"abcedfg123@$\"\n",
    "str = str.lower()\n",
    "for i in range(0,len(str)): \n",
    "    if str[i] in (\"a\",\"e\",\"i\",\"o\",\"u\"):\n",
    "        vcount = vcount + 1 \n",
    "    elif (str[i] >= 'a' and str[i] <= 'z'):\n",
    "        ccount = ccount + 1\n",
    "    elif (str[i]>='0' and str[i]<='9'):\n",
    "        digcount = digcount + 1\n",
    "    else:       \n",
    "        spcount = spcount + 1\n",
    "print(\"Vowels: \",vcount)\n",
    "print(\"Consonants: \",ccount)\n",
    "print(\"Special Characters: \",spcount)"
   ]
  },
  {
   "cell_type": "code",
   "execution_count": 39,
   "metadata": {},
   "outputs": [
    {
     "data": {
      "text/plain": [
       "2"
      ]
     },
     "execution_count": 39,
     "metadata": {},
     "output_type": "execute_result"
    }
   ],
   "source": [
    "str = \"abbaaccbbaaa\"\n",
    "str.count(\"aa\")"
   ]
  },
  {
   "cell_type": "code",
   "execution_count": 45,
   "metadata": {},
   "outputs": [
    {
     "data": {
      "text/plain": [
       "8"
      ]
     },
     "execution_count": 45,
     "metadata": {},
     "output_type": "execute_result"
    }
   ],
   "source": [
    "str = \"((((()()()))))()\"\n",
    "str.count(\"(\")"
   ]
  },
  {
   "cell_type": "code",
   "execution_count": 44,
   "metadata": {},
   "outputs": [
    {
     "data": {
      "text/plain": [
       "4"
      ]
     },
     "execution_count": 44,
     "metadata": {},
     "output_type": "execute_result"
    }
   ],
   "source": [
    "str = \"((()))()\"\n",
    "str.count(\"(\")"
   ]
  },
  {
   "cell_type": "code",
   "execution_count": 9,
   "metadata": {},
   "outputs": [
    {
     "name": "stdout",
     "output_type": "stream",
     "text": [
      "The strings are anagrams.\n"
     ]
    }
   ],
   "source": [
    "def check(s1, s2): \n",
    "      \n",
    "    # the sorted strings are checked  \n",
    "    if(sorted(s1)== sorted(s2)): \n",
    "        print(\"The strings are anagrams.\")  \n",
    "    else: \n",
    "        print(\"The strings aren't anagrams.\") \n",
    "s1 =\"listen\"\n",
    "s2 =\"silent\" \n",
    "check(s1, s2) "
   ]
  }
 ],
 "metadata": {
  "kernelspec": {
   "display_name": "Python 3",
   "language": "python",
   "name": "python3"
  },
  "language_info": {
   "codemirror_mode": {
    "name": "ipython",
    "version": 3
   },
   "file_extension": ".py",
   "mimetype": "text/x-python",
   "name": "python",
   "nbconvert_exporter": "python",
   "pygments_lexer": "ipython3",
   "version": "3.7.6"
  }
 },
 "nbformat": 4,
 "nbformat_minor": 4
}
