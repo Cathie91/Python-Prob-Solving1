{
 "cells": [
  {
   "cell_type": "code",
   "execution_count": 8,
   "metadata": {},
   "outputs": [
    {
     "name": "stdout",
     "output_type": "stream",
     "text": [
      "[ 0  1  2  3  4  5  6  7  8  9 10 11 12 13 14 15 16 17 18 19 20 21 22 23]\n",
      "(24,)\n",
      "24\n",
      "4\n",
      "int32\n"
     ]
    }
   ],
   "source": [
    "#Create an array with the values from 0 .. 23. And Check its attributes.\n",
    "import numpy as np\n",
    "arr1 = np.arange(start=0, stop=24)\n",
    "print(arr1)\n",
    "print(arr1.shape)\n",
    "print(arr1.size)\n",
    "print(arr1.itemsize)\n",
    "print(arr1.dtype)"
   ]
  },
  {
   "cell_type": "code",
   "execution_count": 12,
   "metadata": {},
   "outputs": [
    {
     "name": "stdout",
     "output_type": "stream",
     "text": [
      "[[ 0  1  2  3  4  5  6  7  8  9 10 11]\n",
      " [12 13 14 15 16 17 18 19 20 21 22 23]]\n",
      "(2, 12)\n",
      "24\n",
      "4\n",
      "int32\n"
     ]
    }
   ],
   "source": [
    "#Reshape it as 2*12\n",
    "arr1=np.arange(24).reshape(2,12)\n",
    "print(arr1)\n",
    "print(arr1.shape)\n",
    "print(arr1.size)\n",
    "print(arr1.itemsize)\n",
    "print(arr1.dtype)"
   ]
  },
  {
   "cell_type": "code",
   "execution_count": 13,
   "metadata": {},
   "outputs": [
    {
     "name": "stdout",
     "output_type": "stream",
     "text": [
      "[[ 0  1  2  3  4  5  6  7]\n",
      " [ 8  9 10 11 12 13 14 15]\n",
      " [16 17 18 19 20 21 22 23]]\n",
      "(3, 8)\n",
      "24\n",
      "4\n",
      "int32\n"
     ]
    }
   ],
   "source": [
    "#Reshape it as 3*8\n",
    "arr1=np.arange(24).reshape(3,8)\n",
    "print(arr1)\n",
    "print(arr1.shape)\n",
    "print(arr1.size)\n",
    "print(arr1.itemsize)\n",
    "print(arr1.dtype)"
   ]
  },
  {
   "cell_type": "code",
   "execution_count": 14,
   "metadata": {},
   "outputs": [
    {
     "name": "stdout",
     "output_type": "stream",
     "text": [
      "[[ 0  1  2  3  4  5]\n",
      " [ 6  7  8  9 10 11]\n",
      " [12 13 14 15 16 17]\n",
      " [18 19 20 21 22 23]]\n",
      "(4, 6)\n",
      "24\n",
      "4\n",
      "int32\n"
     ]
    }
   ],
   "source": [
    "#Reshape it as 4*6\n",
    "arr1=np.arange(24).reshape(4,6)\n",
    "print(arr1)\n",
    "print(arr1.shape)\n",
    "print(arr1.size)\n",
    "print(arr1.itemsize)\n",
    "print(arr1.dtype)"
   ]
  },
  {
   "cell_type": "code",
   "execution_count": 17,
   "metadata": {},
   "outputs": [
    {
     "name": "stdout",
     "output_type": "stream",
     "text": [
      "[[[ 0  1  2  3  4  5]\n",
      "  [ 6  7  8  9 10 11]]\n",
      "\n",
      " [[12 13 14 15 16 17]\n",
      "  [18 19 20 21 22 23]]]\n",
      "(2, 2, 6)\n",
      "24\n",
      "4\n",
      "int32\n"
     ]
    }
   ],
   "source": [
    "#Reshape it as 2*2*6\n",
    "arr1=np.arange(24).reshape(2,2,6)\n",
    "print(arr1)\n",
    "print(arr1.shape)\n",
    "print(arr1.size)\n",
    "print(arr1.itemsize)\n",
    "print(arr1.dtype)"
   ]
  },
  {
   "cell_type": "code",
   "execution_count": 18,
   "metadata": {},
   "outputs": [
    {
     "name": "stdout",
     "output_type": "stream",
     "text": [
      "[[[ 0  1  2]\n",
      "  [ 3  4  5]\n",
      "  [ 6  7  8]\n",
      "  [ 9 10 11]]\n",
      "\n",
      " [[12 13 14]\n",
      "  [15 16 17]\n",
      "  [18 19 20]\n",
      "  [21 22 23]]]\n",
      "(2, 4, 3)\n",
      "24\n",
      "4\n",
      "int32\n"
     ]
    }
   ],
   "source": [
    "#Reshape it as 2*4*3\n",
    "arr1=np.arange(24).reshape(2,4,3)\n",
    "print(arr1)\n",
    "print(arr1.shape)\n",
    "print(arr1.size)\n",
    "print(arr1.itemsize)\n",
    "print(arr1.dtype)"
   ]
  },
  {
   "cell_type": "code",
   "execution_count": 19,
   "metadata": {},
   "outputs": [
    {
     "name": "stdout",
     "output_type": "stream",
     "text": [
      "[[[ 0  1  2]\n",
      "  [ 3  4  5]\n",
      "  [ 6  7  8]\n",
      "  [ 9 10 11]]\n",
      "\n",
      " [[12 13 14]\n",
      "  [15 16 17]\n",
      "  [18 19 20]\n",
      "  [21 22 23]]]\n",
      "(2, 4, 3)\n",
      "24\n",
      "4\n",
      "int32\n"
     ]
    }
   ],
   "source": [
    "#Reshape it as 3*4*2\n",
    "arr1=np.arange(24).reshape(2,4,3)\n",
    "print(arr1)\n",
    "print(arr1.shape)\n",
    "print(arr1.size)\n",
    "print(arr1.itemsize)\n",
    "print(arr1.dtype)"
   ]
  },
  {
   "cell_type": "code",
   "execution_count": 25,
   "metadata": {},
   "outputs": [
    {
     "ename": "SyntaxError",
     "evalue": "invalid syntax (<ipython-input-25-2ee8bb1b6784>, line 5)",
     "output_type": "error",
     "traceback": [
      "\u001b[1;36m  File \u001b[1;32m\"<ipython-input-25-2ee8bb1b6784>\"\u001b[1;36m, line \u001b[1;32m5\u001b[0m\n\u001b[1;33m    return (x=np.maximum(Array1,Array2))\u001b[0m\n\u001b[1;37m             ^\u001b[0m\n\u001b[1;31mSyntaxError\u001b[0m\u001b[1;31m:\u001b[0m invalid syntax\n"
     ]
    }
   ],
   "source": [
    "Array1 =  [5,7,9,8,6,4,5]\n",
    "Array2 = [6,3,4,8,9,7,1]\n",
    "\n",
    "def calculate(x):\n",
    "    return (x=np.maximum(Array1,Array2))\n",
    "cal = np.vectorize(calculate)\n",
    "cal([x])"
   ]
  },
  {
   "cell_type": "code",
   "execution_count": 35,
   "metadata": {},
   "outputs": [
    {
     "name": "stdout",
     "output_type": "stream",
     "text": [
      "27\n",
      "16\n",
      "19\n",
      "21\n",
      "23\n",
      "19\n"
     ]
    }
   ],
   "source": [
    "#Write a Numpy program to generate six random integers between 10 and 30\n",
    "from numpy import random\n",
    "for x in range(6):\n",
    "    print (random.randint(10,30))"
   ]
  },
  {
   "cell_type": "code",
   "execution_count": 38,
   "metadata": {},
   "outputs": [
    {
     "data": {
      "text/plain": [
       "array([ True, False,  True, False, False,  True, False])"
      ]
     },
     "execution_count": 38,
     "metadata": {},
     "output_type": "execute_result"
    }
   ],
   "source": [
    "#Get all the items between 5 and 10 from Array A.\n",
    "def calculate(x):\n",
    "    return 5>x<10\n",
    "cal = np.vectorize(calculate)\n",
    "cal([2,6,1,9,10,3,27])"
   ]
  },
  {
   "cell_type": "code",
   "execution_count": 44,
   "metadata": {},
   "outputs": [
    {
     "name": "stdout",
     "output_type": "stream",
     "text": [
      "[1, 9, 3, 27]\n"
     ]
    }
   ],
   "source": [
    "#Extract all odd numbers from the array.\n",
    "a = np.array([2,6,1,9,10,3,27])\n",
    "only_odd = [num for num in a if num % 2 == 1] \n",
    "print(only_odd)"
   ]
  }
 ],
 "metadata": {
  "kernelspec": {
   "display_name": "Python 3",
   "language": "python",
   "name": "python3"
  },
  "language_info": {
   "codemirror_mode": {
    "name": "ipython",
    "version": 3
   },
   "file_extension": ".py",
   "mimetype": "text/x-python",
   "name": "python",
   "nbconvert_exporter": "python",
   "pygments_lexer": "ipython3",
   "version": "3.7.6"
  }
 },
 "nbformat": 4,
 "nbformat_minor": 4
}
