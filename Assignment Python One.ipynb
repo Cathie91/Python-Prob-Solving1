{
 "cells": [
  {
   "cell_type": "code",
   "execution_count": 8,
   "metadata": {},
   "outputs": [
    {
     "name": "stdout",
     "output_type": "stream",
     "text": [
      "Enter salary amount: 70000\n",
      "Enter year of service: 3\n",
      "No bonus\n"
     ]
    }
   ],
   "source": [
    "salary = int(input(\"Enter salary amount: \"))\n",
    "year = int(input(\"Enter year of service: \"))\n",
    "if(year>=5):\n",
    "    bonus=0.05*salary\n",
    "    print(\"The bonus is:\", bonus)\n",
    "else:\n",
    "    print(\"No bonus\")"
   ]
  },
  {
   "cell_type": "code",
   "execution_count": 8,
   "metadata": {},
   "outputs": [
    {
     "name": "stdout",
     "output_type": "stream",
     "text": [
      "Enter marks: 98\n",
      "A\n"
     ]
    }
   ],
   "source": [
    "marks = int(input(\"Enter marks: \"))\n",
    "if(marks<25):\n",
    "    print(\"F\")\n",
    "elif(marks>=25 and marks<45):\n",
    "    print(\"E\")\n",
    "elif(marks>=45 and marks<50):\n",
    "    print(\"D\")\n",
    "elif(marks>=50 and marks<60):\n",
    "    print(\"C\")\n",
    "elif(marks>=60 and marks<80):\n",
    "    print(\"B\")\n",
    "else:\n",
    "    print(\"A\")"
   ]
  },
  {
   "cell_type": "code",
   "execution_count": 9,
   "metadata": {},
   "outputs": [
    {
     "name": "stdout",
     "output_type": "stream",
     "text": [
      "Enter age of x: 24\n",
      "Enter age of y: 45\n",
      "Enter age of z: 50\n",
      "z is oldest\n",
      "x is youngest\n"
     ]
    }
   ],
   "source": [
    "agex = int(input(\"Enter age of x: \"))\n",
    "agey = int(input(\"Enter age of y: \"))\n",
    "agez = int(input(\"Enter age of z: \"))\n",
    "if (agex > agey and agex > agez):\n",
    "    print(\"x is oldest\")\n",
    "elif (agey > agez):\n",
    "    print(\"y is oldest\")\n",
    "else:\n",
    "    print(\"z is oldest\")\n",
    "if (agex < agey and agex < agez):\n",
    "    print(\"x is youngest\")\n",
    "elif (agey < agez):\n",
    "    print(\"y is youngest\")\n",
    "else:\n",
    "    print(\"z is youngest\")\n"
   ]
  },
  {
   "cell_type": "code",
   "execution_count": 15,
   "metadata": {},
   "outputs": [
    {
     "name": "stdout",
     "output_type": "stream",
     "text": [
      "Number of classes held: 100\n",
      "Number of classes attended: 89\n",
      "attendance:  89.0\n",
      "Allowed\n"
     ]
    }
   ],
   "source": [
    "classheld = int(input(\"Number of classes held: \"))\n",
    "attended = int(input(\"Number of classes attended: \"))\n",
    "attendance = (attended/classheld)*100\n",
    "print(\"attendance: \", attendance)\n",
    "if(attendance<0.75):\n",
    "    print(\"Not allowed\")\n",
    "else:\n",
    "    print(\"Allowed\")\n"
   ]
  },
  {
   "cell_type": "code",
   "execution_count": 21,
   "metadata": {},
   "outputs": [
    {
     "name": "stdout",
     "output_type": "stream",
     "text": [
      "Enter a number: -20\n",
      "absolute value of x is:  20\n"
     ]
    }
   ],
   "source": [
    "x = int(input(\"Enter a number: \"))\n",
    "integer = abs(x)\n",
    "print(\"absolute value of x is: \", integer)"
   ]
  },
  {
   "cell_type": "code",
   "execution_count": 1,
   "metadata": {},
   "outputs": [
    {
     "name": "stdout",
     "output_type": "stream",
     "text": [
      "Enter the number: 34\n",
      "34 is not an Adam Number.\n"
     ]
    }
   ],
   "source": [
    "def isAdam(num):\n",
    "    n = num\n",
    "    rev = 0\n",
    "    while n != 0:\n",
    "        rev = rev * 10 + n % 10\n",
    "        n = n // 10\n",
    "    sn = num ** 2\n",
    "    sr = rev ** 2\n",
    "    n = sr\n",
    "    rev = 0\n",
    "    while n != 0:\n",
    "        rev = rev * 10 + n % 10\n",
    "        n = n // 10\n",
    "    return sn == rev\n",
    "\n",
    "num = int(input(\"Enter the number: \"))\n",
    "if isAdam(num):\n",
    "    print(str(num) + \" is an Adam Number.\")\n",
    "else:\n",
    "    print(str(num) + \" is not an Adam Number.\")"
   ]
  },
  {
   "cell_type": "code",
   "execution_count": null,
   "metadata": {},
   "outputs": [],
   "source": []
  }
 ],
 "metadata": {
  "kernelspec": {
   "display_name": "Python 3",
   "language": "python",
   "name": "python3"
  },
  "language_info": {
   "codemirror_mode": {
    "name": "ipython",
    "version": 3
   },
   "file_extension": ".py",
   "mimetype": "text/x-python",
   "name": "python",
   "nbconvert_exporter": "python",
   "pygments_lexer": "ipython3",
   "version": "3.7.6"
  }
 },
 "nbformat": 4,
 "nbformat_minor": 4
}
